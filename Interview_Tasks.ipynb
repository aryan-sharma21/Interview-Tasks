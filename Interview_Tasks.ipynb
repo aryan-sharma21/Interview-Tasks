{
  "nbformat": 4,
  "nbformat_minor": 0,
  "metadata": {
    "colab": {
      "name": "Interview Tasks.ipynb",
      "provenance": [],
      "authorship_tag": "ABX9TyOaHXKlyfDdK8+OSPRvYead",
      "include_colab_link": true
    },
    "kernelspec": {
      "name": "python3",
      "display_name": "Python 3"
    },
    "language_info": {
      "name": "python"
    }
  },
  "cells": [
    {
      "cell_type": "markdown",
      "metadata": {
        "id": "view-in-github",
        "colab_type": "text"
      },
      "source": [
        "<a href=\"https://colab.research.google.com/github/aryan-sharma21/Interview-Tasks/blob/main/Interview_Tasks.ipynb\" target=\"_parent\"><img src=\"https://colab.research.google.com/assets/colab-badge.svg\" alt=\"Open In Colab\"/></a>"
      ]
    },
    {
      "cell_type": "markdown",
      "metadata": {
        "id": "AmVvHL_YzLLA"
      },
      "source": [
        "Question 1 "
      ]
    },
    {
      "cell_type": "code",
      "metadata": {
        "id": "zujx2kl2zKJC"
      },
      "source": [
        "stri = input(\"Enter your string: \")\n",
        "n=int(input(\"Enter Integer Value: \"))\n",
        "while True:\n",
        "  counter = 0\n",
        "  for chr in stri:\n",
        "    if chr*n in stri:\n",
        "      stri = stri.replace(chr*n,\"\")\n",
        "      counter+=1\n",
        "  if counter == 0:\n",
        "    break\n",
        "print(stri)\n",
        "  \n",
        "\n",
        "\n",
        "\n"
      ],
      "execution_count": null,
      "outputs": []
    },
    {
      "cell_type": "markdown",
      "metadata": {
        "id": "4V7Xiz86I4Dv"
      },
      "source": [
        "Question 2\n"
      ]
    },
    {
      "cell_type": "code",
      "metadata": {
        "colab": {
          "base_uri": "https://localhost:8080/"
        },
        "id": "6o2iuFQ4JaoS",
        "outputId": "4765d7d9-4795-4dd3-81ad-2d0972af0932"
      },
      "source": [
        "n=int(input(\"Enter number: \"))\n",
        "\n",
        "def divisibility(n,x):\n",
        "  if(n%x == 0):\n",
        "    return True\n",
        "  else: \n",
        "    return False\n",
        "    \n",
        "\n",
        "def digitsum(n):\n",
        "  temp=n\n",
        "  sum=0\n",
        "  count=0\n",
        "  while temp>0:\n",
        "    digit=temp%10\n",
        "    sum+=digit\n",
        "    temp=temp//10\n",
        "    count+=1\n",
        "  if(sum>9):\n",
        "    return digitsum(sum)\n",
        "  else:\n",
        "    return divisibility(sum,count)\n",
        "\n",
        "print(digitsum((n)))\n",
        "if(digitsum(n) is True):\n",
        "  print(\"Divisble\")\n",
        "else:\n",
        "  print(\"Not Divisible\")\n",
        "\n",
        "\n",
        "\n"
      ],
      "execution_count": null,
      "outputs": [
        {
          "output_type": "stream",
          "name": "stdout",
          "text": [
            "Enter number: 1236\n",
            "False\n",
            "Not Divisible\n"
          ]
        }
      ]
    },
    {
      "cell_type": "markdown",
      "metadata": {
        "id": "q994_G1g753K"
      },
      "source": [
        "Question 7\n"
      ]
    },
    {
      "cell_type": "code",
      "metadata": {
        "colab": {
          "base_uri": "https://localhost:8080/"
        },
        "id": "SrLKQqY78fM5",
        "outputId": "5bbd6629-f99a-4fa7-8357-c3da04acce12"
      },
      "source": [
        "import sys\n",
        "import string\n",
        "\n",
        "def toString(List):\n",
        "    return ''.join(List)\n",
        "\n",
        "def permute(a, l, r):\n",
        "    if l==r:\n",
        "        print(toString(a))\n",
        "    else:\n",
        "        for i in range(l,r+1):\n",
        "            a[l], a[i] = a[i], a[l]\n",
        "            permute(a, l+1, r)\n",
        "            a[l], a[i] = a[i], a[l]\n",
        "\n",
        "n=int(sys.argv[1])\n",
        "res = string.ascii_lowercase[:n]\n",
        "\n",
        "print(res)\n",
        "a = list(res)\n",
        "permute(a,0,n-1)\n",
        "\n"
      ],
      "execution_count": null,
      "outputs": [
        {
          "output_type": "stream",
          "name": "stdout",
          "text": [
            "3\n",
            "abc\n",
            "abc\n",
            "acb\n",
            "bac\n",
            "bca\n",
            "cba\n",
            "cab\n"
          ]
        }
      ]
    }
  ]
}